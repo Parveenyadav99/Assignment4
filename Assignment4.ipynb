{
 "cells": [
  {
   "cell_type": "raw",
   "id": "ca64a3ee",
   "metadata": {},
   "source": [
    "# Q1. Explain Class and Object with respect to Object-Oriented Programming. Give a suitable example.\n",
    "In object-oriented programming (OOP), a class is a blueprint for creating objects (a particular data structure), providing initial values for state (member variables or attributes), and implementations of behavior (member functions or methods). An object is an instance of a class, which is created at runtime.\n",
    "\n",
    "For example, consider a class named Person, which could have attributes such as name, age, and gender. The class could also have methods such as introduce and greet, which allow the object to perform actions. When an object of the Person class is created, it is given unique values for the attributes and can use the methods to perform actions."
   ]
  },
  {
   "cell_type": "code",
   "execution_count": 1,
   "id": "cd8dbdf5",
   "metadata": {},
   "outputs": [
    {
     "name": "stdout",
     "output_type": "stream",
     "text": [
      "Hello, my name is John Doe\n",
      "Hi John Doe, my name is Jane Doe\n"
     ]
    }
   ],
   "source": [
    "class Person:\n",
    "    def __init__(self, name, age, gender):\n",
    "        self.name = name\n",
    "        self.age = age\n",
    "        self.gender = gender\n",
    "        \n",
    "    def introduce(self):\n",
    "        print(\"Hello, my name is\", self.name)\n",
    "        \n",
    "    def greet(self, other_person):\n",
    "        print(\"Hi\", other_person.name + \",\", \"my name is\", self.name)\n",
    "        \n",
    "person1 = Person(\"John Doe\", 30, \"male\")\n",
    "person2 = Person(\"Jane Doe\", 25, \"female\")\n",
    "\n",
    "person1.introduce() # Output: Hello, my name is John Doe\n",
    "person2.greet(person1) # Output: Hi John Doe, my name is Jane Doe\n"
   ]
  },
  {
   "cell_type": "raw",
   "id": "0005e38a",
   "metadata": {},
   "source": [
    "# Q2. Name the four pillars of OOPs.\n",
    "The four pillars of Object-Oriented Programming (OOP) are:\n",
    "\n",
    "1.Encapsulation: This refers to the wrapping up of data and functions into a single unit or object. It provides a secure mechanism for protecting data from outside access or modification.\n",
    "\n",
    "2.Inheritance: This allows a new class to be derived from an existing class. The new class inherits all the properties and behaviors of the existing class and can also add new properties and behaviors of its own.\n",
    "\n",
    "3.Abstraction: This is the process of hiding complex implementation details and providing only necessary information to the outside world. It helps to reduce the complexity of the system and increase the ease of use.\n",
    "\n",
    "4.Polymorphism: This allows objects of different classes to be treated as objects of a single class. It enables the implementation of common operations in a single method, which can be applied to objects of multiple classes."
   ]
  },
  {
   "cell_type": "raw",
   "id": "d3c992d0",
   "metadata": {},
   "source": [
    "# Q3. Explain why the __init__() function is used. Give a suitable example.\n",
    "The __init__ function in Python is a special method that is automatically called when an object of a class is created. It is commonly referred to as the constructor and is used to initialize the attributes of the class. The __init__ function is defined inside the class and takes the first argument self, which refers to the instance being created, followed by any additional arguments that are needed to initialize the attributes.\n",
    "\n",
    "Here's an example to demonstrate the use of __init__ function in a class:\n",
    "\n"
   ]
  },
  {
   "cell_type": "code",
   "execution_count": 2,
   "id": "9039f13b",
   "metadata": {},
   "outputs": [
    {
     "name": "stdout",
     "output_type": "stream",
     "text": [
      "Toyota\n",
      "Camry\n",
      "2019\n"
     ]
    }
   ],
   "source": [
    "class Car:\n",
    "    def __init__(self, make, model, year):\n",
    "        self.make = make\n",
    "        self.model = model\n",
    "        self.year = year\n",
    "\n",
    "my_car = Car(\"Toyota\", \"Camry\", 2019)\n",
    "print(my_car.make) # Output: Toyota\n",
    "print(my_car.model) # Output: Camry\n",
    "print(my_car.year) # Output: 2019\n"
   ]
  },
  {
   "cell_type": "raw",
   "id": "b795e4b6",
   "metadata": {},
   "source": [
    "Q4. Why self is used in OOPs?\n",
    "The self keyword is used in Object-Oriented Programming (OOP) in Python to refer to the instance of the class itself. It is a convention to use self as the first argument of a class method. When a method is called on an instance of a class, the instance itself is passed as the first argument to the method, and self is used to refer to the instance inside the method.\n",
    "\n",
    "Here's an example to demonstrate the use of self in a class method:\n"
   ]
  },
  {
   "cell_type": "raw",
   "id": "c7847a11",
   "metadata": {},
   "source": [
    "# Q5. What is inheritance? Give an example for each type of inheritance.\n",
    "\n",
    "Inheritance is a feature of Object-Oriented Programming (OOP) that allows us to create new classes that are based on existing classes. The new class inherits all the attributes and methods of the base class. This helps to reduce code duplication and make the code more organized.\n",
    "\n",
    "There are several types of inheritance in OOP:\n",
    "\n",
    "Single inheritance: This is a simple inheritance where one class inherits from a single base class."
   ]
  },
  {
   "cell_type": "code",
   "execution_count": 18,
   "id": "152b936f",
   "metadata": {},
   "outputs": [],
   "source": []
  },
  {
   "cell_type": "code",
   "execution_count": 19,
   "id": "ebc3185e",
   "metadata": {},
   "outputs": [],
   "source": [
    "\n"
   ]
  },
  {
   "cell_type": "code",
   "execution_count": null,
   "id": "7729513a",
   "metadata": {},
   "outputs": [],
   "source": []
  }
 ],
 "metadata": {
  "kernelspec": {
   "display_name": "Python 3 (ipykernel)",
   "language": "python",
   "name": "python3"
  },
  "language_info": {
   "codemirror_mode": {
    "name": "ipython",
    "version": 3
   },
   "file_extension": ".py",
   "mimetype": "text/x-python",
   "name": "python",
   "nbconvert_exporter": "python",
   "pygments_lexer": "ipython3",
   "version": "3.9.7"
  }
 },
 "nbformat": 4,
 "nbformat_minor": 5
}
